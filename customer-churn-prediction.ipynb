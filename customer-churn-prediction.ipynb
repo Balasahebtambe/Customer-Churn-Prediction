{
 "cells": [
  {
   "cell_type": "code",
   "execution_count": 1,
   "id": "a58f8d55",
   "metadata": {
    "_cell_guid": "b1076dfc-b9ad-4769-8c92-a6c4dae69d19",
    "_uuid": "8f2839f25d086af736a60e9eeb907d3b93b6e0e5",
    "execution": {
     "iopub.execute_input": "2024-06-29T03:49:00.010457Z",
     "iopub.status.busy": "2024-06-29T03:49:00.009339Z",
     "iopub.status.idle": "2024-06-29T03:49:00.778057Z",
     "shell.execute_reply": "2024-06-29T03:49:00.776917Z"
    },
    "papermill": {
     "duration": 0.781618,
     "end_time": "2024-06-29T03:49:00.780952",
     "exception": false,
     "start_time": "2024-06-29T03:48:59.999334",
     "status": "completed"
    },
    "tags": []
   },
   "outputs": [
    {
     "name": "stdout",
     "output_type": "stream",
     "text": [
      "/kaggle/input/customer-churn-from-a-bank/Churn_Modelling.csv\n"
     ]
    }
   ],
   "source": [
    "# This Python 3 environment comes with many helpful analytics libraries installed\n",
    "# It is defined by the kaggle/python Docker image: https://github.com/kaggle/docker-python\n",
    "# For example, here's several helpful packages to load\n",
    "\n",
    "import numpy as np # linear algebra\n",
    "import pandas as pd # data processing, CSV file I/O (e.g. pd.read_csv)\n",
    "\n",
    "# Input data files are available in the read-only \"../input/\" directory\n",
    "# For example, running this (by clicking run or pressing Shift+Enter) will list all files under the input directory\n",
    "\n",
    "import os\n",
    "for dirname, _, filenames in os.walk('/kaggle/input'):\n",
    "    for filename in filenames:\n",
    "        print(os.path.join(dirname, filename))\n",
    "\n",
    "# You can write up to 20GB to the current directory (/kaggle/working/) that gets preserved as output when you create a version using \"Save & Run All\" \n",
    "# You can also write temporary files to /kaggle/temp/, but they won't be saved outside of the current session"
   ]
  },
  {
   "cell_type": "code",
   "execution_count": 2,
   "id": "519fc99e",
   "metadata": {
    "execution": {
     "iopub.execute_input": "2024-06-29T03:49:00.799381Z",
     "iopub.status.busy": "2024-06-29T03:49:00.798673Z",
     "iopub.status.idle": "2024-06-29T03:49:00.840192Z",
     "shell.execute_reply": "2024-06-29T03:49:00.839148Z"
    },
    "papermill": {
     "duration": 0.053302,
     "end_time": "2024-06-29T03:49:00.842821",
     "exception": false,
     "start_time": "2024-06-29T03:49:00.789519",
     "status": "completed"
    },
    "tags": []
   },
   "outputs": [],
   "source": [
    "df = pd.read_csv('/kaggle/input/customer-churn-from-a-bank/Churn_Modelling.csv')"
   ]
  },
  {
   "cell_type": "code",
   "execution_count": 3,
   "id": "e3823468",
   "metadata": {
    "execution": {
     "iopub.execute_input": "2024-06-29T03:49:00.860411Z",
     "iopub.status.busy": "2024-06-29T03:49:00.859709Z",
     "iopub.status.idle": "2024-06-29T03:49:00.885000Z",
     "shell.execute_reply": "2024-06-29T03:49:00.884032Z"
    },
    "papermill": {
     "duration": 0.0367,
     "end_time": "2024-06-29T03:49:00.887415",
     "exception": false,
     "start_time": "2024-06-29T03:49:00.850715",
     "status": "completed"
    },
    "scrolled": true,
    "tags": []
   },
   "outputs": [
    {
     "data": {
      "text/html": [
       "<div>\n",
       "<style scoped>\n",
       "    .dataframe tbody tr th:only-of-type {\n",
       "        vertical-align: middle;\n",
       "    }\n",
       "\n",
       "    .dataframe tbody tr th {\n",
       "        vertical-align: top;\n",
       "    }\n",
       "\n",
       "    .dataframe thead th {\n",
       "        text-align: right;\n",
       "    }\n",
       "</style>\n",
       "<table border=\"1\" class=\"dataframe\">\n",
       "  <thead>\n",
       "    <tr style=\"text-align: right;\">\n",
       "      <th></th>\n",
       "      <th>RowNumber</th>\n",
       "      <th>CustomerId</th>\n",
       "      <th>Surname</th>\n",
       "      <th>CreditScore</th>\n",
       "      <th>Geography</th>\n",
       "      <th>Gender</th>\n",
       "      <th>Age</th>\n",
       "      <th>Tenure</th>\n",
       "      <th>Balance</th>\n",
       "      <th>NumOfProducts</th>\n",
       "      <th>HasCrCard</th>\n",
       "      <th>IsActiveMember</th>\n",
       "      <th>EstimatedSalary</th>\n",
       "      <th>Exited</th>\n",
       "    </tr>\n",
       "  </thead>\n",
       "  <tbody>\n",
       "    <tr>\n",
       "      <th>0</th>\n",
       "      <td>1</td>\n",
       "      <td>15634602</td>\n",
       "      <td>Hargrave</td>\n",
       "      <td>619</td>\n",
       "      <td>France</td>\n",
       "      <td>Female</td>\n",
       "      <td>42</td>\n",
       "      <td>2</td>\n",
       "      <td>0.00</td>\n",
       "      <td>1</td>\n",
       "      <td>1</td>\n",
       "      <td>1</td>\n",
       "      <td>101348.88</td>\n",
       "      <td>1</td>\n",
       "    </tr>\n",
       "    <tr>\n",
       "      <th>1</th>\n",
       "      <td>2</td>\n",
       "      <td>15647311</td>\n",
       "      <td>Hill</td>\n",
       "      <td>608</td>\n",
       "      <td>Spain</td>\n",
       "      <td>Female</td>\n",
       "      <td>41</td>\n",
       "      <td>1</td>\n",
       "      <td>83807.86</td>\n",
       "      <td>1</td>\n",
       "      <td>0</td>\n",
       "      <td>1</td>\n",
       "      <td>112542.58</td>\n",
       "      <td>0</td>\n",
       "    </tr>\n",
       "    <tr>\n",
       "      <th>2</th>\n",
       "      <td>3</td>\n",
       "      <td>15619304</td>\n",
       "      <td>Onio</td>\n",
       "      <td>502</td>\n",
       "      <td>France</td>\n",
       "      <td>Female</td>\n",
       "      <td>42</td>\n",
       "      <td>8</td>\n",
       "      <td>159660.80</td>\n",
       "      <td>3</td>\n",
       "      <td>1</td>\n",
       "      <td>0</td>\n",
       "      <td>113931.57</td>\n",
       "      <td>1</td>\n",
       "    </tr>\n",
       "    <tr>\n",
       "      <th>3</th>\n",
       "      <td>4</td>\n",
       "      <td>15701354</td>\n",
       "      <td>Boni</td>\n",
       "      <td>699</td>\n",
       "      <td>France</td>\n",
       "      <td>Female</td>\n",
       "      <td>39</td>\n",
       "      <td>1</td>\n",
       "      <td>0.00</td>\n",
       "      <td>2</td>\n",
       "      <td>0</td>\n",
       "      <td>0</td>\n",
       "      <td>93826.63</td>\n",
       "      <td>0</td>\n",
       "    </tr>\n",
       "    <tr>\n",
       "      <th>4</th>\n",
       "      <td>5</td>\n",
       "      <td>15737888</td>\n",
       "      <td>Mitchell</td>\n",
       "      <td>850</td>\n",
       "      <td>Spain</td>\n",
       "      <td>Female</td>\n",
       "      <td>43</td>\n",
       "      <td>2</td>\n",
       "      <td>125510.82</td>\n",
       "      <td>1</td>\n",
       "      <td>1</td>\n",
       "      <td>1</td>\n",
       "      <td>79084.10</td>\n",
       "      <td>0</td>\n",
       "    </tr>\n",
       "  </tbody>\n",
       "</table>\n",
       "</div>"
      ],
      "text/plain": [
       "   RowNumber  CustomerId   Surname  CreditScore Geography  Gender  Age  \\\n",
       "0          1    15634602  Hargrave          619    France  Female   42   \n",
       "1          2    15647311      Hill          608     Spain  Female   41   \n",
       "2          3    15619304      Onio          502    France  Female   42   \n",
       "3          4    15701354      Boni          699    France  Female   39   \n",
       "4          5    15737888  Mitchell          850     Spain  Female   43   \n",
       "\n",
       "   Tenure    Balance  NumOfProducts  HasCrCard  IsActiveMember  \\\n",
       "0       2       0.00              1          1               1   \n",
       "1       1   83807.86              1          0               1   \n",
       "2       8  159660.80              3          1               0   \n",
       "3       1       0.00              2          0               0   \n",
       "4       2  125510.82              1          1               1   \n",
       "\n",
       "   EstimatedSalary  Exited  \n",
       "0        101348.88       1  \n",
       "1        112542.58       0  \n",
       "2        113931.57       1  \n",
       "3         93826.63       0  \n",
       "4         79084.10       0  "
      ]
     },
     "execution_count": 3,
     "metadata": {},
     "output_type": "execute_result"
    }
   ],
   "source": [
    "df.head()"
   ]
  },
  {
   "cell_type": "code",
   "execution_count": 4,
   "id": "d1570c97",
   "metadata": {
    "execution": {
     "iopub.execute_input": "2024-06-29T03:49:00.905479Z",
     "iopub.status.busy": "2024-06-29T03:49:00.904732Z",
     "iopub.status.idle": "2024-06-29T03:49:00.928056Z",
     "shell.execute_reply": "2024-06-29T03:49:00.927118Z"
    },
    "papermill": {
     "duration": 0.034803,
     "end_time": "2024-06-29T03:49:00.930275",
     "exception": false,
     "start_time": "2024-06-29T03:49:00.895472",
     "status": "completed"
    },
    "tags": []
   },
   "outputs": [
    {
     "name": "stdout",
     "output_type": "stream",
     "text": [
      "<class 'pandas.core.frame.DataFrame'>\n",
      "RangeIndex: 10000 entries, 0 to 9999\n",
      "Data columns (total 14 columns):\n",
      " #   Column           Non-Null Count  Dtype  \n",
      "---  ------           --------------  -----  \n",
      " 0   RowNumber        10000 non-null  int64  \n",
      " 1   CustomerId       10000 non-null  int64  \n",
      " 2   Surname          10000 non-null  object \n",
      " 3   CreditScore      10000 non-null  int64  \n",
      " 4   Geography        10000 non-null  object \n",
      " 5   Gender           10000 non-null  object \n",
      " 6   Age              10000 non-null  int64  \n",
      " 7   Tenure           10000 non-null  int64  \n",
      " 8   Balance          10000 non-null  float64\n",
      " 9   NumOfProducts    10000 non-null  int64  \n",
      " 10  HasCrCard        10000 non-null  int64  \n",
      " 11  IsActiveMember   10000 non-null  int64  \n",
      " 12  EstimatedSalary  10000 non-null  float64\n",
      " 13  Exited           10000 non-null  int64  \n",
      "dtypes: float64(2), int64(9), object(3)\n",
      "memory usage: 1.1+ MB\n"
     ]
    }
   ],
   "source": [
    "df.info()"
   ]
  },
  {
   "cell_type": "code",
   "execution_count": 5,
   "id": "5f66fea7",
   "metadata": {
    "execution": {
     "iopub.execute_input": "2024-06-29T03:49:00.948267Z",
     "iopub.status.busy": "2024-06-29T03:49:00.947457Z",
     "iopub.status.idle": "2024-06-29T03:49:00.960803Z",
     "shell.execute_reply": "2024-06-29T03:49:00.959852Z"
    },
    "papermill": {
     "duration": 0.024405,
     "end_time": "2024-06-29T03:49:00.962853",
     "exception": false,
     "start_time": "2024-06-29T03:49:00.938448",
     "status": "completed"
    },
    "tags": []
   },
   "outputs": [
    {
     "data": {
      "text/plain": [
       "0"
      ]
     },
     "execution_count": 5,
     "metadata": {},
     "output_type": "execute_result"
    }
   ],
   "source": [
    "df.duplicated().sum()"
   ]
  },
  {
   "cell_type": "code",
   "execution_count": 6,
   "id": "41782b6e",
   "metadata": {
    "execution": {
     "iopub.execute_input": "2024-06-29T03:49:00.980858Z",
     "iopub.status.busy": "2024-06-29T03:49:00.980193Z",
     "iopub.status.idle": "2024-06-29T03:49:00.988837Z",
     "shell.execute_reply": "2024-06-29T03:49:00.987940Z"
    },
    "papermill": {
     "duration": 0.019716,
     "end_time": "2024-06-29T03:49:00.990886",
     "exception": false,
     "start_time": "2024-06-29T03:49:00.971170",
     "status": "completed"
    },
    "tags": []
   },
   "outputs": [
    {
     "data": {
      "text/plain": [
       "Exited\n",
       "0    7963\n",
       "1    2037\n",
       "Name: count, dtype: int64"
      ]
     },
     "execution_count": 6,
     "metadata": {},
     "output_type": "execute_result"
    }
   ],
   "source": [
    "df['Exited'].value_counts()"
   ]
  },
  {
   "cell_type": "code",
   "execution_count": 7,
   "id": "07d2f28a",
   "metadata": {
    "execution": {
     "iopub.execute_input": "2024-06-29T03:49:01.008851Z",
     "iopub.status.busy": "2024-06-29T03:49:01.008493Z",
     "iopub.status.idle": "2024-06-29T03:49:01.016535Z",
     "shell.execute_reply": "2024-06-29T03:49:01.015598Z"
    },
    "papermill": {
     "duration": 0.01958,
     "end_time": "2024-06-29T03:49:01.018817",
     "exception": false,
     "start_time": "2024-06-29T03:49:00.999237",
     "status": "completed"
    },
    "tags": []
   },
   "outputs": [
    {
     "data": {
      "text/plain": [
       "Geography\n",
       "France     5014\n",
       "Germany    2509\n",
       "Spain      2477\n",
       "Name: count, dtype: int64"
      ]
     },
     "execution_count": 7,
     "metadata": {},
     "output_type": "execute_result"
    }
   ],
   "source": [
    "df['Geography'].value_counts()"
   ]
  },
  {
   "cell_type": "code",
   "execution_count": 8,
   "id": "3f1cab02",
   "metadata": {
    "execution": {
     "iopub.execute_input": "2024-06-29T03:49:01.037888Z",
     "iopub.status.busy": "2024-06-29T03:49:01.037527Z",
     "iopub.status.idle": "2024-06-29T03:49:01.046399Z",
     "shell.execute_reply": "2024-06-29T03:49:01.045347Z"
    },
    "papermill": {
     "duration": 0.021133,
     "end_time": "2024-06-29T03:49:01.048481",
     "exception": false,
     "start_time": "2024-06-29T03:49:01.027348",
     "status": "completed"
    },
    "tags": []
   },
   "outputs": [
    {
     "data": {
      "text/plain": [
       "Gender\n",
       "Male      5457\n",
       "Female    4543\n",
       "Name: count, dtype: int64"
      ]
     },
     "execution_count": 8,
     "metadata": {},
     "output_type": "execute_result"
    }
   ],
   "source": [
    "df['Gender'].value_counts()"
   ]
  },
  {
   "cell_type": "code",
   "execution_count": 9,
   "id": "2213d2b8",
   "metadata": {
    "execution": {
     "iopub.execute_input": "2024-06-29T03:49:01.067752Z",
     "iopub.status.busy": "2024-06-29T03:49:01.066867Z",
     "iopub.status.idle": "2024-06-29T03:49:01.074996Z",
     "shell.execute_reply": "2024-06-29T03:49:01.074250Z"
    },
    "papermill": {
     "duration": 0.019949,
     "end_time": "2024-06-29T03:49:01.076998",
     "exception": false,
     "start_time": "2024-06-29T03:49:01.057049",
     "status": "completed"
    },
    "tags": []
   },
   "outputs": [],
   "source": [
    "df.drop(columns=['RowNumber', \"CustomerId\", 'Surname'], axis=1, inplace=True)"
   ]
  },
  {
   "cell_type": "code",
   "execution_count": 10,
   "id": "4ae4fd6a",
   "metadata": {
    "execution": {
     "iopub.execute_input": "2024-06-29T03:49:01.096891Z",
     "iopub.status.busy": "2024-06-29T03:49:01.095996Z",
     "iopub.status.idle": "2024-06-29T03:49:01.109881Z",
     "shell.execute_reply": "2024-06-29T03:49:01.108945Z"
    },
    "papermill": {
     "duration": 0.025905,
     "end_time": "2024-06-29T03:49:01.111948",
     "exception": false,
     "start_time": "2024-06-29T03:49:01.086043",
     "status": "completed"
    },
    "tags": []
   },
   "outputs": [
    {
     "data": {
      "text/html": [
       "<div>\n",
       "<style scoped>\n",
       "    .dataframe tbody tr th:only-of-type {\n",
       "        vertical-align: middle;\n",
       "    }\n",
       "\n",
       "    .dataframe tbody tr th {\n",
       "        vertical-align: top;\n",
       "    }\n",
       "\n",
       "    .dataframe thead th {\n",
       "        text-align: right;\n",
       "    }\n",
       "</style>\n",
       "<table border=\"1\" class=\"dataframe\">\n",
       "  <thead>\n",
       "    <tr style=\"text-align: right;\">\n",
       "      <th></th>\n",
       "      <th>CreditScore</th>\n",
       "      <th>Geography</th>\n",
       "      <th>Gender</th>\n",
       "      <th>Age</th>\n",
       "      <th>Tenure</th>\n",
       "      <th>Balance</th>\n",
       "      <th>NumOfProducts</th>\n",
       "      <th>HasCrCard</th>\n",
       "      <th>IsActiveMember</th>\n",
       "      <th>EstimatedSalary</th>\n",
       "      <th>Exited</th>\n",
       "    </tr>\n",
       "  </thead>\n",
       "  <tbody>\n",
       "    <tr>\n",
       "      <th>0</th>\n",
       "      <td>619</td>\n",
       "      <td>France</td>\n",
       "      <td>Female</td>\n",
       "      <td>42</td>\n",
       "      <td>2</td>\n",
       "      <td>0.00</td>\n",
       "      <td>1</td>\n",
       "      <td>1</td>\n",
       "      <td>1</td>\n",
       "      <td>101348.88</td>\n",
       "      <td>1</td>\n",
       "    </tr>\n",
       "    <tr>\n",
       "      <th>1</th>\n",
       "      <td>608</td>\n",
       "      <td>Spain</td>\n",
       "      <td>Female</td>\n",
       "      <td>41</td>\n",
       "      <td>1</td>\n",
       "      <td>83807.86</td>\n",
       "      <td>1</td>\n",
       "      <td>0</td>\n",
       "      <td>1</td>\n",
       "      <td>112542.58</td>\n",
       "      <td>0</td>\n",
       "    </tr>\n",
       "    <tr>\n",
       "      <th>2</th>\n",
       "      <td>502</td>\n",
       "      <td>France</td>\n",
       "      <td>Female</td>\n",
       "      <td>42</td>\n",
       "      <td>8</td>\n",
       "      <td>159660.80</td>\n",
       "      <td>3</td>\n",
       "      <td>1</td>\n",
       "      <td>0</td>\n",
       "      <td>113931.57</td>\n",
       "      <td>1</td>\n",
       "    </tr>\n",
       "    <tr>\n",
       "      <th>3</th>\n",
       "      <td>699</td>\n",
       "      <td>France</td>\n",
       "      <td>Female</td>\n",
       "      <td>39</td>\n",
       "      <td>1</td>\n",
       "      <td>0.00</td>\n",
       "      <td>2</td>\n",
       "      <td>0</td>\n",
       "      <td>0</td>\n",
       "      <td>93826.63</td>\n",
       "      <td>0</td>\n",
       "    </tr>\n",
       "    <tr>\n",
       "      <th>4</th>\n",
       "      <td>850</td>\n",
       "      <td>Spain</td>\n",
       "      <td>Female</td>\n",
       "      <td>43</td>\n",
       "      <td>2</td>\n",
       "      <td>125510.82</td>\n",
       "      <td>1</td>\n",
       "      <td>1</td>\n",
       "      <td>1</td>\n",
       "      <td>79084.10</td>\n",
       "      <td>0</td>\n",
       "    </tr>\n",
       "  </tbody>\n",
       "</table>\n",
       "</div>"
      ],
      "text/plain": [
       "   CreditScore Geography  Gender  Age  Tenure    Balance  NumOfProducts  \\\n",
       "0          619    France  Female   42       2       0.00              1   \n",
       "1          608     Spain  Female   41       1   83807.86              1   \n",
       "2          502    France  Female   42       8  159660.80              3   \n",
       "3          699    France  Female   39       1       0.00              2   \n",
       "4          850     Spain  Female   43       2  125510.82              1   \n",
       "\n",
       "   HasCrCard  IsActiveMember  EstimatedSalary  Exited  \n",
       "0          1               1        101348.88       1  \n",
       "1          0               1        112542.58       0  \n",
       "2          1               0        113931.57       1  \n",
       "3          0               0         93826.63       0  \n",
       "4          1               1         79084.10       0  "
      ]
     },
     "execution_count": 10,
     "metadata": {},
     "output_type": "execute_result"
    }
   ],
   "source": [
    "df.head()"
   ]
  },
  {
   "cell_type": "code",
   "execution_count": 11,
   "id": "14d99a8a",
   "metadata": {
    "execution": {
     "iopub.execute_input": "2024-06-29T03:49:01.131601Z",
     "iopub.status.busy": "2024-06-29T03:49:01.130692Z",
     "iopub.status.idle": "2024-06-29T03:49:01.141207Z",
     "shell.execute_reply": "2024-06-29T03:49:01.140424Z"
    },
    "papermill": {
     "duration": 0.022501,
     "end_time": "2024-06-29T03:49:01.143340",
     "exception": false,
     "start_time": "2024-06-29T03:49:01.120839",
     "status": "completed"
    },
    "tags": []
   },
   "outputs": [],
   "source": [
    "df = pd.get_dummies(df, columns=['Geography', 'Gender'], drop_first= True)"
   ]
  },
  {
   "cell_type": "code",
   "execution_count": 12,
   "id": "338709f8",
   "metadata": {
    "execution": {
     "iopub.execute_input": "2024-06-29T03:49:01.162775Z",
     "iopub.status.busy": "2024-06-29T03:49:01.162405Z",
     "iopub.status.idle": "2024-06-29T03:49:01.176221Z",
     "shell.execute_reply": "2024-06-29T03:49:01.175275Z"
    },
    "papermill": {
     "duration": 0.025854,
     "end_time": "2024-06-29T03:49:01.178334",
     "exception": false,
     "start_time": "2024-06-29T03:49:01.152480",
     "status": "completed"
    },
    "tags": []
   },
   "outputs": [
    {
     "data": {
      "text/html": [
       "<div>\n",
       "<style scoped>\n",
       "    .dataframe tbody tr th:only-of-type {\n",
       "        vertical-align: middle;\n",
       "    }\n",
       "\n",
       "    .dataframe tbody tr th {\n",
       "        vertical-align: top;\n",
       "    }\n",
       "\n",
       "    .dataframe thead th {\n",
       "        text-align: right;\n",
       "    }\n",
       "</style>\n",
       "<table border=\"1\" class=\"dataframe\">\n",
       "  <thead>\n",
       "    <tr style=\"text-align: right;\">\n",
       "      <th></th>\n",
       "      <th>CreditScore</th>\n",
       "      <th>Age</th>\n",
       "      <th>Tenure</th>\n",
       "      <th>Balance</th>\n",
       "      <th>NumOfProducts</th>\n",
       "      <th>HasCrCard</th>\n",
       "      <th>IsActiveMember</th>\n",
       "      <th>EstimatedSalary</th>\n",
       "      <th>Exited</th>\n",
       "      <th>Geography_Germany</th>\n",
       "      <th>Geography_Spain</th>\n",
       "      <th>Gender_Male</th>\n",
       "    </tr>\n",
       "  </thead>\n",
       "  <tbody>\n",
       "    <tr>\n",
       "      <th>0</th>\n",
       "      <td>619</td>\n",
       "      <td>42</td>\n",
       "      <td>2</td>\n",
       "      <td>0.00</td>\n",
       "      <td>1</td>\n",
       "      <td>1</td>\n",
       "      <td>1</td>\n",
       "      <td>101348.88</td>\n",
       "      <td>1</td>\n",
       "      <td>False</td>\n",
       "      <td>False</td>\n",
       "      <td>False</td>\n",
       "    </tr>\n",
       "    <tr>\n",
       "      <th>1</th>\n",
       "      <td>608</td>\n",
       "      <td>41</td>\n",
       "      <td>1</td>\n",
       "      <td>83807.86</td>\n",
       "      <td>1</td>\n",
       "      <td>0</td>\n",
       "      <td>1</td>\n",
       "      <td>112542.58</td>\n",
       "      <td>0</td>\n",
       "      <td>False</td>\n",
       "      <td>True</td>\n",
       "      <td>False</td>\n",
       "    </tr>\n",
       "    <tr>\n",
       "      <th>2</th>\n",
       "      <td>502</td>\n",
       "      <td>42</td>\n",
       "      <td>8</td>\n",
       "      <td>159660.80</td>\n",
       "      <td>3</td>\n",
       "      <td>1</td>\n",
       "      <td>0</td>\n",
       "      <td>113931.57</td>\n",
       "      <td>1</td>\n",
       "      <td>False</td>\n",
       "      <td>False</td>\n",
       "      <td>False</td>\n",
       "    </tr>\n",
       "    <tr>\n",
       "      <th>3</th>\n",
       "      <td>699</td>\n",
       "      <td>39</td>\n",
       "      <td>1</td>\n",
       "      <td>0.00</td>\n",
       "      <td>2</td>\n",
       "      <td>0</td>\n",
       "      <td>0</td>\n",
       "      <td>93826.63</td>\n",
       "      <td>0</td>\n",
       "      <td>False</td>\n",
       "      <td>False</td>\n",
       "      <td>False</td>\n",
       "    </tr>\n",
       "    <tr>\n",
       "      <th>4</th>\n",
       "      <td>850</td>\n",
       "      <td>43</td>\n",
       "      <td>2</td>\n",
       "      <td>125510.82</td>\n",
       "      <td>1</td>\n",
       "      <td>1</td>\n",
       "      <td>1</td>\n",
       "      <td>79084.10</td>\n",
       "      <td>0</td>\n",
       "      <td>False</td>\n",
       "      <td>True</td>\n",
       "      <td>False</td>\n",
       "    </tr>\n",
       "  </tbody>\n",
       "</table>\n",
       "</div>"
      ],
      "text/plain": [
       "   CreditScore  Age  Tenure    Balance  NumOfProducts  HasCrCard  \\\n",
       "0          619   42       2       0.00              1          1   \n",
       "1          608   41       1   83807.86              1          0   \n",
       "2          502   42       8  159660.80              3          1   \n",
       "3          699   39       1       0.00              2          0   \n",
       "4          850   43       2  125510.82              1          1   \n",
       "\n",
       "   IsActiveMember  EstimatedSalary  Exited  Geography_Germany  \\\n",
       "0               1        101348.88       1              False   \n",
       "1               1        112542.58       0              False   \n",
       "2               0        113931.57       1              False   \n",
       "3               0         93826.63       0              False   \n",
       "4               1         79084.10       0              False   \n",
       "\n",
       "   Geography_Spain  Gender_Male  \n",
       "0            False        False  \n",
       "1             True        False  \n",
       "2            False        False  \n",
       "3            False        False  \n",
       "4             True        False  "
      ]
     },
     "execution_count": 12,
     "metadata": {},
     "output_type": "execute_result"
    }
   ],
   "source": [
    "df.head()"
   ]
  },
  {
   "cell_type": "code",
   "execution_count": 13,
   "id": "43e49a5f",
   "metadata": {
    "execution": {
     "iopub.execute_input": "2024-06-29T03:49:01.197702Z",
     "iopub.status.busy": "2024-06-29T03:49:01.197348Z",
     "iopub.status.idle": "2024-06-29T03:49:01.203505Z",
     "shell.execute_reply": "2024-06-29T03:49:01.202496Z"
    },
    "papermill": {
     "duration": 0.018174,
     "end_time": "2024-06-29T03:49:01.205492",
     "exception": false,
     "start_time": "2024-06-29T03:49:01.187318",
     "status": "completed"
    },
    "tags": []
   },
   "outputs": [
    {
     "data": {
      "text/plain": [
       "(10000, 12)"
      ]
     },
     "execution_count": 13,
     "metadata": {},
     "output_type": "execute_result"
    }
   ],
   "source": [
    "df.shape"
   ]
  },
  {
   "cell_type": "code",
   "execution_count": 14,
   "id": "544481ad",
   "metadata": {
    "execution": {
     "iopub.execute_input": "2024-06-29T03:49:01.226543Z",
     "iopub.status.busy": "2024-06-29T03:49:01.226196Z",
     "iopub.status.idle": "2024-06-29T03:49:01.231835Z",
     "shell.execute_reply": "2024-06-29T03:49:01.231046Z"
    },
    "papermill": {
     "duration": 0.017757,
     "end_time": "2024-06-29T03:49:01.233769",
     "exception": false,
     "start_time": "2024-06-29T03:49:01.216012",
     "status": "completed"
    },
    "tags": []
   },
   "outputs": [],
   "source": [
    "X = df.drop(columns = ['Exited'])"
   ]
  },
  {
   "cell_type": "code",
   "execution_count": 15,
   "id": "40738438",
   "metadata": {
    "execution": {
     "iopub.execute_input": "2024-06-29T03:49:01.252934Z",
     "iopub.status.busy": "2024-06-29T03:49:01.252596Z",
     "iopub.status.idle": "2024-06-29T03:49:01.258051Z",
     "shell.execute_reply": "2024-06-29T03:49:01.257206Z"
    },
    "papermill": {
     "duration": 0.017463,
     "end_time": "2024-06-29T03:49:01.260217",
     "exception": false,
     "start_time": "2024-06-29T03:49:01.242754",
     "status": "completed"
    },
    "tags": []
   },
   "outputs": [
    {
     "data": {
      "text/plain": [
       "(10000, 11)"
      ]
     },
     "execution_count": 15,
     "metadata": {},
     "output_type": "execute_result"
    }
   ],
   "source": [
    "X.shape"
   ]
  },
  {
   "cell_type": "code",
   "execution_count": 16,
   "id": "a74f3186",
   "metadata": {
    "execution": {
     "iopub.execute_input": "2024-06-29T03:49:01.279570Z",
     "iopub.status.busy": "2024-06-29T03:49:01.279229Z",
     "iopub.status.idle": "2024-06-29T03:49:01.283763Z",
     "shell.execute_reply": "2024-06-29T03:49:01.282883Z"
    },
    "papermill": {
     "duration": 0.016496,
     "end_time": "2024-06-29T03:49:01.285680",
     "exception": false,
     "start_time": "2024-06-29T03:49:01.269184",
     "status": "completed"
    },
    "tags": []
   },
   "outputs": [],
   "source": [
    "Y= df['Exited']"
   ]
  },
  {
   "cell_type": "code",
   "execution_count": 17,
   "id": "ebf085cb",
   "metadata": {
    "execution": {
     "iopub.execute_input": "2024-06-29T03:49:01.305382Z",
     "iopub.status.busy": "2024-06-29T03:49:01.304575Z",
     "iopub.status.idle": "2024-06-29T03:49:01.310314Z",
     "shell.execute_reply": "2024-06-29T03:49:01.309448Z"
    },
    "papermill": {
     "duration": 0.017633,
     "end_time": "2024-06-29T03:49:01.312292",
     "exception": false,
     "start_time": "2024-06-29T03:49:01.294659",
     "status": "completed"
    },
    "tags": []
   },
   "outputs": [
    {
     "data": {
      "text/plain": [
       "(10000,)"
      ]
     },
     "execution_count": 17,
     "metadata": {},
     "output_type": "execute_result"
    }
   ],
   "source": [
    "Y.shape"
   ]
  },
  {
   "cell_type": "code",
   "execution_count": 18,
   "id": "3245cfab",
   "metadata": {
    "execution": {
     "iopub.execute_input": "2024-06-29T03:49:01.331908Z",
     "iopub.status.busy": "2024-06-29T03:49:01.331349Z",
     "iopub.status.idle": "2024-06-29T03:49:02.392103Z",
     "shell.execute_reply": "2024-06-29T03:49:02.390930Z"
    },
    "papermill": {
     "duration": 1.073412,
     "end_time": "2024-06-29T03:49:02.394723",
     "exception": false,
     "start_time": "2024-06-29T03:49:01.321311",
     "status": "completed"
    },
    "tags": []
   },
   "outputs": [],
   "source": [
    "from sklearn.model_selection import train_test_split\n",
    "x_train, x_test, y_train, y_test = train_test_split(X, Y, test_size = 0.2, random_state = 100) "
   ]
  },
  {
   "cell_type": "code",
   "execution_count": 19,
   "id": "e0802635",
   "metadata": {
    "execution": {
     "iopub.execute_input": "2024-06-29T03:49:02.418644Z",
     "iopub.status.busy": "2024-06-29T03:49:02.417864Z",
     "iopub.status.idle": "2024-06-29T03:49:02.438474Z",
     "shell.execute_reply": "2024-06-29T03:49:02.437499Z"
    },
    "papermill": {
     "duration": 0.037165,
     "end_time": "2024-06-29T03:49:02.444175",
     "exception": false,
     "start_time": "2024-06-29T03:49:02.407010",
     "status": "completed"
    },
    "tags": []
   },
   "outputs": [
    {
     "data": {
      "text/html": [
       "<div>\n",
       "<style scoped>\n",
       "    .dataframe tbody tr th:only-of-type {\n",
       "        vertical-align: middle;\n",
       "    }\n",
       "\n",
       "    .dataframe tbody tr th {\n",
       "        vertical-align: top;\n",
       "    }\n",
       "\n",
       "    .dataframe thead th {\n",
       "        text-align: right;\n",
       "    }\n",
       "</style>\n",
       "<table border=\"1\" class=\"dataframe\">\n",
       "  <thead>\n",
       "    <tr style=\"text-align: right;\">\n",
       "      <th></th>\n",
       "      <th>CreditScore</th>\n",
       "      <th>Age</th>\n",
       "      <th>Tenure</th>\n",
       "      <th>Balance</th>\n",
       "      <th>NumOfProducts</th>\n",
       "      <th>HasCrCard</th>\n",
       "      <th>IsActiveMember</th>\n",
       "      <th>EstimatedSalary</th>\n",
       "      <th>Geography_Germany</th>\n",
       "      <th>Geography_Spain</th>\n",
       "      <th>Gender_Male</th>\n",
       "    </tr>\n",
       "  </thead>\n",
       "  <tbody>\n",
       "    <tr>\n",
       "      <th>8369</th>\n",
       "      <td>684</td>\n",
       "      <td>37</td>\n",
       "      <td>1</td>\n",
       "      <td>126817.13</td>\n",
       "      <td>2</td>\n",
       "      <td>1</td>\n",
       "      <td>1</td>\n",
       "      <td>29995.83</td>\n",
       "      <td>True</td>\n",
       "      <td>False</td>\n",
       "      <td>True</td>\n",
       "    </tr>\n",
       "    <tr>\n",
       "      <th>9722</th>\n",
       "      <td>679</td>\n",
       "      <td>36</td>\n",
       "      <td>3</td>\n",
       "      <td>0.00</td>\n",
       "      <td>2</td>\n",
       "      <td>1</td>\n",
       "      <td>1</td>\n",
       "      <td>2243.41</td>\n",
       "      <td>False</td>\n",
       "      <td>False</td>\n",
       "      <td>False</td>\n",
       "    </tr>\n",
       "    <tr>\n",
       "      <th>6950</th>\n",
       "      <td>652</td>\n",
       "      <td>38</td>\n",
       "      <td>6</td>\n",
       "      <td>123081.84</td>\n",
       "      <td>2</td>\n",
       "      <td>1</td>\n",
       "      <td>1</td>\n",
       "      <td>188657.97</td>\n",
       "      <td>False</td>\n",
       "      <td>True</td>\n",
       "      <td>False</td>\n",
       "    </tr>\n",
       "    <tr>\n",
       "      <th>1919</th>\n",
       "      <td>618</td>\n",
       "      <td>56</td>\n",
       "      <td>7</td>\n",
       "      <td>0.00</td>\n",
       "      <td>1</td>\n",
       "      <td>1</td>\n",
       "      <td>1</td>\n",
       "      <td>142400.27</td>\n",
       "      <td>False</td>\n",
       "      <td>False</td>\n",
       "      <td>True</td>\n",
       "    </tr>\n",
       "    <tr>\n",
       "      <th>5713</th>\n",
       "      <td>537</td>\n",
       "      <td>47</td>\n",
       "      <td>10</td>\n",
       "      <td>0.00</td>\n",
       "      <td>2</td>\n",
       "      <td>0</td>\n",
       "      <td>1</td>\n",
       "      <td>25482.62</td>\n",
       "      <td>False</td>\n",
       "      <td>False</td>\n",
       "      <td>True</td>\n",
       "    </tr>\n",
       "    <tr>\n",
       "      <th>...</th>\n",
       "      <td>...</td>\n",
       "      <td>...</td>\n",
       "      <td>...</td>\n",
       "      <td>...</td>\n",
       "      <td>...</td>\n",
       "      <td>...</td>\n",
       "      <td>...</td>\n",
       "      <td>...</td>\n",
       "      <td>...</td>\n",
       "      <td>...</td>\n",
       "      <td>...</td>\n",
       "    </tr>\n",
       "    <tr>\n",
       "      <th>350</th>\n",
       "      <td>659</td>\n",
       "      <td>32</td>\n",
       "      <td>3</td>\n",
       "      <td>107594.11</td>\n",
       "      <td>2</td>\n",
       "      <td>1</td>\n",
       "      <td>1</td>\n",
       "      <td>102416.84</td>\n",
       "      <td>False</td>\n",
       "      <td>True</td>\n",
       "      <td>True</td>\n",
       "    </tr>\n",
       "    <tr>\n",
       "      <th>79</th>\n",
       "      <td>416</td>\n",
       "      <td>41</td>\n",
       "      <td>10</td>\n",
       "      <td>122189.66</td>\n",
       "      <td>2</td>\n",
       "      <td>1</td>\n",
       "      <td>0</td>\n",
       "      <td>98301.61</td>\n",
       "      <td>True</td>\n",
       "      <td>False</td>\n",
       "      <td>False</td>\n",
       "    </tr>\n",
       "    <tr>\n",
       "      <th>8039</th>\n",
       "      <td>672</td>\n",
       "      <td>43</td>\n",
       "      <td>4</td>\n",
       "      <td>92599.55</td>\n",
       "      <td>2</td>\n",
       "      <td>1</td>\n",
       "      <td>1</td>\n",
       "      <td>167336.78</td>\n",
       "      <td>False</td>\n",
       "      <td>False</td>\n",
       "      <td>False</td>\n",
       "    </tr>\n",
       "    <tr>\n",
       "      <th>6936</th>\n",
       "      <td>592</td>\n",
       "      <td>31</td>\n",
       "      <td>2</td>\n",
       "      <td>84102.11</td>\n",
       "      <td>2</td>\n",
       "      <td>0</td>\n",
       "      <td>1</td>\n",
       "      <td>116385.24</td>\n",
       "      <td>False</td>\n",
       "      <td>False</td>\n",
       "      <td>False</td>\n",
       "    </tr>\n",
       "    <tr>\n",
       "      <th>5640</th>\n",
       "      <td>477</td>\n",
       "      <td>24</td>\n",
       "      <td>2</td>\n",
       "      <td>95675.62</td>\n",
       "      <td>2</td>\n",
       "      <td>0</td>\n",
       "      <td>0</td>\n",
       "      <td>162699.70</td>\n",
       "      <td>True</td>\n",
       "      <td>False</td>\n",
       "      <td>False</td>\n",
       "    </tr>\n",
       "  </tbody>\n",
       "</table>\n",
       "<p>8000 rows × 11 columns</p>\n",
       "</div>"
      ],
      "text/plain": [
       "      CreditScore  Age  Tenure    Balance  NumOfProducts  HasCrCard  \\\n",
       "8369          684   37       1  126817.13              2          1   \n",
       "9722          679   36       3       0.00              2          1   \n",
       "6950          652   38       6  123081.84              2          1   \n",
       "1919          618   56       7       0.00              1          1   \n",
       "5713          537   47      10       0.00              2          0   \n",
       "...           ...  ...     ...        ...            ...        ...   \n",
       "350           659   32       3  107594.11              2          1   \n",
       "79            416   41      10  122189.66              2          1   \n",
       "8039          672   43       4   92599.55              2          1   \n",
       "6936          592   31       2   84102.11              2          0   \n",
       "5640          477   24       2   95675.62              2          0   \n",
       "\n",
       "      IsActiveMember  EstimatedSalary  Geography_Germany  Geography_Spain  \\\n",
       "8369               1         29995.83               True            False   \n",
       "9722               1          2243.41              False            False   \n",
       "6950               1        188657.97              False             True   \n",
       "1919               1        142400.27              False            False   \n",
       "5713               1         25482.62              False            False   \n",
       "...              ...              ...                ...              ...   \n",
       "350                1        102416.84              False             True   \n",
       "79                 0         98301.61               True            False   \n",
       "8039               1        167336.78              False            False   \n",
       "6936               1        116385.24              False            False   \n",
       "5640               0        162699.70               True            False   \n",
       "\n",
       "      Gender_Male  \n",
       "8369         True  \n",
       "9722        False  \n",
       "6950        False  \n",
       "1919         True  \n",
       "5713         True  \n",
       "...           ...  \n",
       "350          True  \n",
       "79          False  \n",
       "8039        False  \n",
       "6936        False  \n",
       "5640        False  \n",
       "\n",
       "[8000 rows x 11 columns]"
      ]
     },
     "execution_count": 19,
     "metadata": {},
     "output_type": "execute_result"
    }
   ],
   "source": [
    "x_train"
   ]
  },
  {
   "cell_type": "code",
   "execution_count": 20,
   "id": "a9fc2ea0",
   "metadata": {
    "execution": {
     "iopub.execute_input": "2024-06-29T03:49:02.467655Z",
     "iopub.status.busy": "2024-06-29T03:49:02.466687Z",
     "iopub.status.idle": "2024-06-29T03:49:02.471931Z",
     "shell.execute_reply": "2024-06-29T03:49:02.470933Z"
    },
    "papermill": {
     "duration": 0.018289,
     "end_time": "2024-06-29T03:49:02.474104",
     "exception": false,
     "start_time": "2024-06-29T03:49:02.455815",
     "status": "completed"
    },
    "tags": []
   },
   "outputs": [],
   "source": [
    "from sklearn.preprocessing import StandardScaler\n",
    "scaler = StandardScaler()"
   ]
  },
  {
   "cell_type": "code",
   "execution_count": 21,
   "id": "7b7a204d",
   "metadata": {
    "execution": {
     "iopub.execute_input": "2024-06-29T03:49:02.495181Z",
     "iopub.status.busy": "2024-06-29T03:49:02.494246Z",
     "iopub.status.idle": "2024-06-29T03:49:02.509715Z",
     "shell.execute_reply": "2024-06-29T03:49:02.508746Z"
    },
    "papermill": {
     "duration": 0.028873,
     "end_time": "2024-06-29T03:49:02.512590",
     "exception": false,
     "start_time": "2024-06-29T03:49:02.483717",
     "status": "completed"
    },
    "tags": []
   },
   "outputs": [],
   "source": [
    "x_train_scaled = scaler.fit_transform(x_train)"
   ]
  },
  {
   "cell_type": "code",
   "execution_count": 22,
   "id": "bb2f0e9a",
   "metadata": {
    "execution": {
     "iopub.execute_input": "2024-06-29T03:49:02.538851Z",
     "iopub.status.busy": "2024-06-29T03:49:02.537948Z",
     "iopub.status.idle": "2024-06-29T03:49:02.544994Z",
     "shell.execute_reply": "2024-06-29T03:49:02.543930Z"
    },
    "papermill": {
     "duration": 0.019928,
     "end_time": "2024-06-29T03:49:02.547162",
     "exception": false,
     "start_time": "2024-06-29T03:49:02.527234",
     "status": "completed"
    },
    "tags": []
   },
   "outputs": [
    {
     "data": {
      "text/plain": [
       "array([[ 0.35476836, -0.18423398, -1.38231111, ...,  1.72286214,\n",
       "        -0.57484841,  0.9111777 ],\n",
       "       [ 0.30282874, -0.2796117 , -0.69212613, ..., -0.58042949,\n",
       "        -0.57484841, -1.09748077],\n",
       "       [ 0.02235481, -0.08885627,  0.34315135, ..., -0.58042949,\n",
       "         1.73958906, -1.09748077],\n",
       "       ...,\n",
       "       [ 0.23011328,  0.38803232, -0.34703364, ..., -0.58042949,\n",
       "        -0.57484841, -1.09748077],\n",
       "       [-0.60092059, -0.75650029, -1.03721862, ..., -0.58042949,\n",
       "        -0.57484841, -1.09748077],\n",
       "       [-1.79553176, -1.42414431, -1.03721862, ...,  1.72286214,\n",
       "        -0.57484841, -1.09748077]])"
      ]
     },
     "execution_count": 22,
     "metadata": {},
     "output_type": "execute_result"
    }
   ],
   "source": [
    "x_train_scaled"
   ]
  },
  {
   "cell_type": "code",
   "execution_count": 23,
   "id": "d4abff10",
   "metadata": {
    "execution": {
     "iopub.execute_input": "2024-06-29T03:49:02.572203Z",
     "iopub.status.busy": "2024-06-29T03:49:02.571810Z",
     "iopub.status.idle": "2024-06-29T03:49:02.583472Z",
     "shell.execute_reply": "2024-06-29T03:49:02.582479Z"
    },
    "papermill": {
     "duration": 0.02517,
     "end_time": "2024-06-29T03:49:02.585665",
     "exception": false,
     "start_time": "2024-06-29T03:49:02.560495",
     "status": "completed"
    },
    "tags": []
   },
   "outputs": [],
   "source": [
    "x_test_scaled = scaler.fit_transform(x_test)"
   ]
  },
  {
   "cell_type": "code",
   "execution_count": 24,
   "id": "d61e0a08",
   "metadata": {
    "execution": {
     "iopub.execute_input": "2024-06-29T03:49:02.606709Z",
     "iopub.status.busy": "2024-06-29T03:49:02.606356Z",
     "iopub.status.idle": "2024-06-29T03:49:02.613357Z",
     "shell.execute_reply": "2024-06-29T03:49:02.612252Z"
    },
    "papermill": {
     "duration": 0.020052,
     "end_time": "2024-06-29T03:49:02.615553",
     "exception": false,
     "start_time": "2024-06-29T03:49:02.595501",
     "status": "completed"
    },
    "tags": []
   },
   "outputs": [
    {
     "data": {
      "text/plain": [
       "array([[-0.21659712, -1.51293681, -0.71163177, ...,  1.74836928,\n",
       "        -0.56965192,  0.91739884],\n",
       "       [-0.6038873 , -0.65561389, -0.36304898, ...,  1.74836928,\n",
       "        -0.56965192, -1.09003844],\n",
       "       [ 0.34395444, -0.56035579,  1.37986499, ...,  1.74836928,\n",
       "        -0.56965192,  0.91739884],\n",
       "       ...,\n",
       "       [ 0.20126859, -0.17932338, -0.36304898, ..., -0.57196155,\n",
       "        -0.56965192,  0.91739884],\n",
       "       [-0.02295204, -1.2271625 , -0.01446619, ...,  1.74836928,\n",
       "        -0.56965192,  0.91739884],\n",
       "       [ 2.00522544, -0.27458148, -0.71163177, ..., -0.57196155,\n",
       "        -0.56965192,  0.91739884]])"
      ]
     },
     "execution_count": 24,
     "metadata": {},
     "output_type": "execute_result"
    }
   ],
   "source": [
    "x_test_scaled"
   ]
  },
  {
   "cell_type": "code",
   "execution_count": 25,
   "id": "2c83801f",
   "metadata": {
    "execution": {
     "iopub.execute_input": "2024-06-29T03:49:02.636781Z",
     "iopub.status.busy": "2024-06-29T03:49:02.636412Z",
     "iopub.status.idle": "2024-06-29T03:49:16.035670Z",
     "shell.execute_reply": "2024-06-29T03:49:16.034498Z"
    },
    "papermill": {
     "duration": 13.412736,
     "end_time": "2024-06-29T03:49:16.038173",
     "exception": false,
     "start_time": "2024-06-29T03:49:02.625437",
     "status": "completed"
    },
    "tags": []
   },
   "outputs": [
    {
     "name": "stderr",
     "output_type": "stream",
     "text": [
      "2024-06-29 03:49:04.817108: E external/local_xla/xla/stream_executor/cuda/cuda_dnn.cc:9261] Unable to register cuDNN factory: Attempting to register factory for plugin cuDNN when one has already been registered\n",
      "2024-06-29 03:49:04.817271: E external/local_xla/xla/stream_executor/cuda/cuda_fft.cc:607] Unable to register cuFFT factory: Attempting to register factory for plugin cuFFT when one has already been registered\n",
      "2024-06-29 03:49:04.977712: E external/local_xla/xla/stream_executor/cuda/cuda_blas.cc:1515] Unable to register cuBLAS factory: Attempting to register factory for plugin cuBLAS when one has already been registered\n"
     ]
    }
   ],
   "source": [
    "import tensorflow as tf\n",
    "from tensorflow import keras \n",
    "from tensorflow.keras import Sequential\n",
    "from tensorflow.keras.layers import Dense"
   ]
  },
  {
   "cell_type": "code",
   "execution_count": 26,
   "id": "3c5e2c9c",
   "metadata": {
    "execution": {
     "iopub.execute_input": "2024-06-29T03:49:16.067602Z",
     "iopub.status.busy": "2024-06-29T03:49:16.066920Z",
     "iopub.status.idle": "2024-06-29T03:49:16.158860Z",
     "shell.execute_reply": "2024-06-29T03:49:16.157641Z"
    },
    "papermill": {
     "duration": 0.108199,
     "end_time": "2024-06-29T03:49:16.161194",
     "exception": false,
     "start_time": "2024-06-29T03:49:16.052995",
     "status": "completed"
    },
    "tags": []
   },
   "outputs": [
    {
     "name": "stderr",
     "output_type": "stream",
     "text": [
      "/opt/conda/lib/python3.10/site-packages/keras/src/layers/core/dense.py:87: UserWarning: Do not pass an `input_shape`/`input_dim` argument to a layer. When using Sequential models, prefer using an `Input(shape)` object as the first layer in the model instead.\n",
      "  super().__init__(activity_regularizer=activity_regularizer, **kwargs)\n"
     ]
    }
   ],
   "source": [
    "model = Sequential()\n",
    "\n",
    "model.add(Dense(10, activation = 'relu', input_dim = 11))\n",
    "model.add(Dense(9, activation = 'relu'))\n",
    "model.add(Dense(1, activation = 'sigmoid'))"
   ]
  },
  {
   "cell_type": "code",
   "execution_count": 27,
   "id": "d0806ecc",
   "metadata": {
    "execution": {
     "iopub.execute_input": "2024-06-29T03:49:16.183755Z",
     "iopub.status.busy": "2024-06-29T03:49:16.183372Z",
     "iopub.status.idle": "2024-06-29T03:49:16.206156Z",
     "shell.execute_reply": "2024-06-29T03:49:16.205147Z"
    },
    "papermill": {
     "duration": 0.036737,
     "end_time": "2024-06-29T03:49:16.208387",
     "exception": false,
     "start_time": "2024-06-29T03:49:16.171650",
     "status": "completed"
    },
    "tags": []
   },
   "outputs": [
    {
     "data": {
      "text/html": [
       "<pre style=\"white-space:pre;overflow-x:auto;line-height:normal;font-family:Menlo,'DejaVu Sans Mono',consolas,'Courier New',monospace\"><span style=\"font-weight: bold\">Model: \"sequential\"</span>\n",
       "</pre>\n"
      ],
      "text/plain": [
       "\u001b[1mModel: \"sequential\"\u001b[0m\n"
      ]
     },
     "metadata": {},
     "output_type": "display_data"
    },
    {
     "data": {
      "text/html": [
       "<pre style=\"white-space:pre;overflow-x:auto;line-height:normal;font-family:Menlo,'DejaVu Sans Mono',consolas,'Courier New',monospace\">┏━━━━━━━━━━━━━━━━━━━━━━━━━━━━━━━━━┳━━━━━━━━━━━━━━━━━━━━━━━━┳━━━━━━━━━━━━━━━┓\n",
       "┃<span style=\"font-weight: bold\"> Layer (type)                    </span>┃<span style=\"font-weight: bold\"> Output Shape           </span>┃<span style=\"font-weight: bold\">       Param # </span>┃\n",
       "┡━━━━━━━━━━━━━━━━━━━━━━━━━━━━━━━━━╇━━━━━━━━━━━━━━━━━━━━━━━━╇━━━━━━━━━━━━━━━┩\n",
       "│ dense (<span style=\"color: #0087ff; text-decoration-color: #0087ff\">Dense</span>)                   │ (<span style=\"color: #00d7ff; text-decoration-color: #00d7ff\">None</span>, <span style=\"color: #00af00; text-decoration-color: #00af00\">10</span>)             │           <span style=\"color: #00af00; text-decoration-color: #00af00\">120</span> │\n",
       "├─────────────────────────────────┼────────────────────────┼───────────────┤\n",
       "│ dense_1 (<span style=\"color: #0087ff; text-decoration-color: #0087ff\">Dense</span>)                 │ (<span style=\"color: #00d7ff; text-decoration-color: #00d7ff\">None</span>, <span style=\"color: #00af00; text-decoration-color: #00af00\">9</span>)              │            <span style=\"color: #00af00; text-decoration-color: #00af00\">99</span> │\n",
       "├─────────────────────────────────┼────────────────────────┼───────────────┤\n",
       "│ dense_2 (<span style=\"color: #0087ff; text-decoration-color: #0087ff\">Dense</span>)                 │ (<span style=\"color: #00d7ff; text-decoration-color: #00d7ff\">None</span>, <span style=\"color: #00af00; text-decoration-color: #00af00\">1</span>)              │            <span style=\"color: #00af00; text-decoration-color: #00af00\">10</span> │\n",
       "└─────────────────────────────────┴────────────────────────┴───────────────┘\n",
       "</pre>\n"
      ],
      "text/plain": [
       "┏━━━━━━━━━━━━━━━━━━━━━━━━━━━━━━━━━┳━━━━━━━━━━━━━━━━━━━━━━━━┳━━━━━━━━━━━━━━━┓\n",
       "┃\u001b[1m \u001b[0m\u001b[1mLayer (type)                   \u001b[0m\u001b[1m \u001b[0m┃\u001b[1m \u001b[0m\u001b[1mOutput Shape          \u001b[0m\u001b[1m \u001b[0m┃\u001b[1m \u001b[0m\u001b[1m      Param #\u001b[0m\u001b[1m \u001b[0m┃\n",
       "┡━━━━━━━━━━━━━━━━━━━━━━━━━━━━━━━━━╇━━━━━━━━━━━━━━━━━━━━━━━━╇━━━━━━━━━━━━━━━┩\n",
       "│ dense (\u001b[38;5;33mDense\u001b[0m)                   │ (\u001b[38;5;45mNone\u001b[0m, \u001b[38;5;34m10\u001b[0m)             │           \u001b[38;5;34m120\u001b[0m │\n",
       "├─────────────────────────────────┼────────────────────────┼───────────────┤\n",
       "│ dense_1 (\u001b[38;5;33mDense\u001b[0m)                 │ (\u001b[38;5;45mNone\u001b[0m, \u001b[38;5;34m9\u001b[0m)              │            \u001b[38;5;34m99\u001b[0m │\n",
       "├─────────────────────────────────┼────────────────────────┼───────────────┤\n",
       "│ dense_2 (\u001b[38;5;33mDense\u001b[0m)                 │ (\u001b[38;5;45mNone\u001b[0m, \u001b[38;5;34m1\u001b[0m)              │            \u001b[38;5;34m10\u001b[0m │\n",
       "└─────────────────────────────────┴────────────────────────┴───────────────┘\n"
      ]
     },
     "metadata": {},
     "output_type": "display_data"
    },
    {
     "data": {
      "text/html": [
       "<pre style=\"white-space:pre;overflow-x:auto;line-height:normal;font-family:Menlo,'DejaVu Sans Mono',consolas,'Courier New',monospace\"><span style=\"font-weight: bold\"> Total params: </span><span style=\"color: #00af00; text-decoration-color: #00af00\">229</span> (916.00 B)\n",
       "</pre>\n"
      ],
      "text/plain": [
       "\u001b[1m Total params: \u001b[0m\u001b[38;5;34m229\u001b[0m (916.00 B)\n"
      ]
     },
     "metadata": {},
     "output_type": "display_data"
    },
    {
     "data": {
      "text/html": [
       "<pre style=\"white-space:pre;overflow-x:auto;line-height:normal;font-family:Menlo,'DejaVu Sans Mono',consolas,'Courier New',monospace\"><span style=\"font-weight: bold\"> Trainable params: </span><span style=\"color: #00af00; text-decoration-color: #00af00\">229</span> (916.00 B)\n",
       "</pre>\n"
      ],
      "text/plain": [
       "\u001b[1m Trainable params: \u001b[0m\u001b[38;5;34m229\u001b[0m (916.00 B)\n"
      ]
     },
     "metadata": {},
     "output_type": "display_data"
    },
    {
     "data": {
      "text/html": [
       "<pre style=\"white-space:pre;overflow-x:auto;line-height:normal;font-family:Menlo,'DejaVu Sans Mono',consolas,'Courier New',monospace\"><span style=\"font-weight: bold\"> Non-trainable params: </span><span style=\"color: #00af00; text-decoration-color: #00af00\">0</span> (0.00 B)\n",
       "</pre>\n"
      ],
      "text/plain": [
       "\u001b[1m Non-trainable params: \u001b[0m\u001b[38;5;34m0\u001b[0m (0.00 B)\n"
      ]
     },
     "metadata": {},
     "output_type": "display_data"
    }
   ],
   "source": [
    "model.summary()"
   ]
  },
  {
   "cell_type": "code",
   "execution_count": 28,
   "id": "bdf3f40c",
   "metadata": {
    "execution": {
     "iopub.execute_input": "2024-06-29T03:49:16.236639Z",
     "iopub.status.busy": "2024-06-29T03:49:16.236261Z",
     "iopub.status.idle": "2024-06-29T03:49:16.252314Z",
     "shell.execute_reply": "2024-06-29T03:49:16.251150Z"
    },
    "papermill": {
     "duration": 0.034053,
     "end_time": "2024-06-29T03:49:16.255051",
     "exception": false,
     "start_time": "2024-06-29T03:49:16.220998",
     "status": "completed"
    },
    "tags": []
   },
   "outputs": [],
   "source": [
    "model.compile(loss = 'binary_crossentropy', optimizer = 'Adam')"
   ]
  },
  {
   "cell_type": "code",
   "execution_count": 29,
   "id": "5033a025",
   "metadata": {
    "execution": {
     "iopub.execute_input": "2024-06-29T03:49:16.279181Z",
     "iopub.status.busy": "2024-06-29T03:49:16.278784Z",
     "iopub.status.idle": "2024-06-29T03:49:20.540844Z",
     "shell.execute_reply": "2024-06-29T03:49:20.539752Z"
    },
    "papermill": {
     "duration": 4.277007,
     "end_time": "2024-06-29T03:49:20.543374",
     "exception": false,
     "start_time": "2024-06-29T03:49:16.266367",
     "status": "completed"
    },
    "tags": []
   },
   "outputs": [
    {
     "name": "stdout",
     "output_type": "stream",
     "text": [
      "Epoch 1/10\n",
      "\u001b[1m250/250\u001b[0m \u001b[32m━━━━━━━━━━━━━━━━━━━━\u001b[0m\u001b[37m\u001b[0m \u001b[1m1s\u001b[0m 1ms/step - loss: 0.6045\n",
      "Epoch 2/10\n",
      "\u001b[1m250/250\u001b[0m \u001b[32m━━━━━━━━━━━━━━━━━━━━\u001b[0m\u001b[37m\u001b[0m \u001b[1m0s\u001b[0m 1ms/step - loss: 0.4425\n",
      "Epoch 3/10\n",
      "\u001b[1m250/250\u001b[0m \u001b[32m━━━━━━━━━━━━━━━━━━━━\u001b[0m\u001b[37m\u001b[0m \u001b[1m0s\u001b[0m 1ms/step - loss: 0.4245\n",
      "Epoch 4/10\n",
      "\u001b[1m250/250\u001b[0m \u001b[32m━━━━━━━━━━━━━━━━━━━━\u001b[0m\u001b[37m\u001b[0m \u001b[1m0s\u001b[0m 1ms/step - loss: 0.4117\n",
      "Epoch 5/10\n",
      "\u001b[1m250/250\u001b[0m \u001b[32m━━━━━━━━━━━━━━━━━━━━\u001b[0m\u001b[37m\u001b[0m \u001b[1m0s\u001b[0m 1ms/step - loss: 0.3998\n",
      "Epoch 6/10\n",
      "\u001b[1m250/250\u001b[0m \u001b[32m━━━━━━━━━━━━━━━━━━━━\u001b[0m\u001b[37m\u001b[0m \u001b[1m0s\u001b[0m 1ms/step - loss: 0.3794\n",
      "Epoch 7/10\n",
      "\u001b[1m250/250\u001b[0m \u001b[32m━━━━━━━━━━━━━━━━━━━━\u001b[0m\u001b[37m\u001b[0m \u001b[1m0s\u001b[0m 1ms/step - loss: 0.3688\n",
      "Epoch 8/10\n",
      "\u001b[1m250/250\u001b[0m \u001b[32m━━━━━━━━━━━━━━━━━━━━\u001b[0m\u001b[37m\u001b[0m \u001b[1m0s\u001b[0m 1ms/step - loss: 0.3562\n",
      "Epoch 9/10\n",
      "\u001b[1m250/250\u001b[0m \u001b[32m━━━━━━━━━━━━━━━━━━━━\u001b[0m\u001b[37m\u001b[0m \u001b[1m0s\u001b[0m 1ms/step - loss: 0.3580\n",
      "Epoch 10/10\n",
      "\u001b[1m250/250\u001b[0m \u001b[32m━━━━━━━━━━━━━━━━━━━━\u001b[0m\u001b[37m\u001b[0m \u001b[1m0s\u001b[0m 1ms/step - loss: 0.3589\n"
     ]
    },
    {
     "data": {
      "text/plain": [
       "<keras.src.callbacks.history.History at 0x7c94c823fdf0>"
      ]
     },
     "execution_count": 29,
     "metadata": {},
     "output_type": "execute_result"
    }
   ],
   "source": [
    "model.fit(x_train_scaled, y_train, epochs = 10)"
   ]
  },
  {
   "cell_type": "code",
   "execution_count": 30,
   "id": "bee0bc6d",
   "metadata": {
    "execution": {
     "iopub.execute_input": "2024-06-29T03:49:20.578243Z",
     "iopub.status.busy": "2024-06-29T03:49:20.577821Z",
     "iopub.status.idle": "2024-06-29T03:49:20.590123Z",
     "shell.execute_reply": "2024-06-29T03:49:20.589085Z"
    },
    "papermill": {
     "duration": 0.032554,
     "end_time": "2024-06-29T03:49:20.592507",
     "exception": false,
     "start_time": "2024-06-29T03:49:20.559953",
     "status": "completed"
    },
    "tags": []
   },
   "outputs": [
    {
     "data": {
      "text/plain": [
       "[array([[ 4.33311194e-01, -2.11750403e-01,  6.05399311e-01,\n",
       "          3.67802292e-01, -3.14134836e-01, -1.88748211e-01,\n",
       "          4.60079819e-01, -2.20871314e-01,  4.13549453e-01],\n",
       "        [ 7.45626688e-01, -3.11678350e-01,  4.11466271e-01,\n",
       "         -9.41041410e-02,  2.07444370e-01,  6.97057664e-01,\n",
       "         -4.76271629e-01,  1.10067874e-01,  3.65084529e-01],\n",
       "        [-1.68277860e-01,  8.45157802e-01, -5.27220547e-01,\n",
       "         -3.42843294e-01, -7.10515559e-01, -4.71935958e-01,\n",
       "          8.99889410e-01, -2.65918732e-01,  1.64762919e-03],\n",
       "        [-7.53933489e-02,  5.47422588e-01, -1.92327008e-01,\n",
       "          3.05974066e-01,  2.74676085e-01,  2.21862420e-01,\n",
       "          1.75115466e-01,  4.47974354e-01, -3.16405267e-01],\n",
       "        [ 4.39238667e-01,  3.47855479e-01,  2.20923677e-01,\n",
       "          5.01857162e-01,  7.48591721e-02, -1.01946935e-01,\n",
       "          2.58974850e-01, -5.96829690e-02, -2.88868099e-01],\n",
       "        [-1.29964128e-01, -8.92232582e-02, -5.31632751e-02,\n",
       "          3.75624567e-01, -1.22906536e-01,  1.57456771e-02,\n",
       "          1.45665452e-01,  3.93075228e-01, -5.57898104e-01],\n",
       "        [ 1.10048540e-02,  2.14655250e-01, -2.46797830e-01,\n",
       "          9.13389549e-02, -4.09345552e-02,  7.42581785e-02,\n",
       "          2.31106803e-01,  7.22596407e-01, -5.35309315e-01],\n",
       "        [ 2.45651081e-01,  2.21246362e-01, -4.62440759e-01,\n",
       "         -6.13327175e-02, -4.52293381e-02,  5.23748517e-01,\n",
       "         -1.47795036e-01,  5.18088698e-01, -4.12758850e-02],\n",
       "        [ 4.76593971e-01, -2.83958644e-01, -1.55169308e-01,\n",
       "          8.38642478e-01,  3.82740706e-01, -2.26101756e-01,\n",
       "         -2.31605187e-01,  4.63149659e-02, -5.79875079e-04],\n",
       "        [-1.08926788e-01,  7.67045856e-01, -4.02094312e-02,\n",
       "         -5.35133779e-01,  9.07456458e-01, -2.66112506e-01,\n",
       "          7.16336071e-01, -4.16808665e-01, -7.74694979e-01]], dtype=float32),\n",
       " array([ 0.3135745 ,  0.15064958,  0.2302127 ,  0.29431382, -0.31418183,\n",
       "         0.5928315 , -0.02751928,  0.28009373,  0.03107424], dtype=float32)]"
      ]
     },
     "execution_count": 30,
     "metadata": {},
     "output_type": "execute_result"
    }
   ],
   "source": [
    "model.layers[1].get_weights()"
   ]
  },
  {
   "cell_type": "code",
   "execution_count": 31,
   "id": "1aedea20",
   "metadata": {
    "execution": {
     "iopub.execute_input": "2024-06-29T03:49:20.627503Z",
     "iopub.status.busy": "2024-06-29T03:49:20.627128Z",
     "iopub.status.idle": "2024-06-29T03:49:20.875869Z",
     "shell.execute_reply": "2024-06-29T03:49:20.874499Z"
    },
    "papermill": {
     "duration": 0.269196,
     "end_time": "2024-06-29T03:49:20.878476",
     "exception": false,
     "start_time": "2024-06-29T03:49:20.609280",
     "status": "completed"
    },
    "tags": []
   },
   "outputs": [
    {
     "name": "stdout",
     "output_type": "stream",
     "text": [
      "\u001b[1m63/63\u001b[0m \u001b[32m━━━━━━━━━━━━━━━━━━━━\u001b[0m\u001b[37m\u001b[0m \u001b[1m0s\u001b[0m 2ms/step\n"
     ]
    }
   ],
   "source": [
    "y_log = model.predict(x_test_scaled)"
   ]
  },
  {
   "cell_type": "code",
   "execution_count": 32,
   "id": "a61b5816",
   "metadata": {
    "execution": {
     "iopub.execute_input": "2024-06-29T03:49:20.914203Z",
     "iopub.status.busy": "2024-06-29T03:49:20.913795Z",
     "iopub.status.idle": "2024-06-29T03:49:20.918981Z",
     "shell.execute_reply": "2024-06-29T03:49:20.917865Z"
    },
    "papermill": {
     "duration": 0.0257,
     "end_time": "2024-06-29T03:49:20.921092",
     "exception": false,
     "start_time": "2024-06-29T03:49:20.895392",
     "status": "completed"
    },
    "tags": []
   },
   "outputs": [],
   "source": [
    "y_pred = np.where(y_log>0.5,1,0)"
   ]
  },
  {
   "cell_type": "code",
   "execution_count": 33,
   "id": "5abf8bcd",
   "metadata": {
    "execution": {
     "iopub.execute_input": "2024-06-29T03:49:20.957104Z",
     "iopub.status.busy": "2024-06-29T03:49:20.956675Z",
     "iopub.status.idle": "2024-06-29T03:49:20.961815Z",
     "shell.execute_reply": "2024-06-29T03:49:20.960750Z"
    },
    "papermill": {
     "duration": 0.026315,
     "end_time": "2024-06-29T03:49:20.964215",
     "exception": false,
     "start_time": "2024-06-29T03:49:20.937900",
     "status": "completed"
    },
    "tags": []
   },
   "outputs": [],
   "source": [
    "from sklearn.metrics import accuracy_score"
   ]
  },
  {
   "cell_type": "code",
   "execution_count": 34,
   "id": "0776785c",
   "metadata": {
    "execution": {
     "iopub.execute_input": "2024-06-29T03:49:20.999920Z",
     "iopub.status.busy": "2024-06-29T03:49:20.999489Z",
     "iopub.status.idle": "2024-06-29T03:49:21.007740Z",
     "shell.execute_reply": "2024-06-29T03:49:21.006488Z"
    },
    "papermill": {
     "duration": 0.02906,
     "end_time": "2024-06-29T03:49:21.009960",
     "exception": false,
     "start_time": "2024-06-29T03:49:20.980900",
     "status": "completed"
    },
    "tags": []
   },
   "outputs": [
    {
     "name": "stdout",
     "output_type": "stream",
     "text": [
      "85.0 %\n"
     ]
    }
   ],
   "source": [
    "print(f\"{np.round(accuracy_score(y_test, y_pred),2)*100} %\")"
   ]
  },
  {
   "cell_type": "code",
   "execution_count": null,
   "id": "c665101d",
   "metadata": {
    "papermill": {
     "duration": 0.024341,
     "end_time": "2024-06-29T03:49:21.051555",
     "exception": false,
     "start_time": "2024-06-29T03:49:21.027214",
     "status": "completed"
    },
    "tags": []
   },
   "outputs": [],
   "source": []
  }
 ],
 "metadata": {
  "kaggle": {
   "accelerator": "none",
   "dataSources": [
    {
     "datasetId": 4643522,
     "sourceId": 7905436,
     "sourceType": "datasetVersion"
    }
   ],
   "dockerImageVersionId": 30732,
   "isGpuEnabled": false,
   "isInternetEnabled": true,
   "language": "python",
   "sourceType": "notebook"
  },
  "kernelspec": {
   "display_name": "Python 3",
   "language": "python",
   "name": "python3"
  },
  "language_info": {
   "codemirror_mode": {
    "name": "ipython",
    "version": 3
   },
   "file_extension": ".py",
   "mimetype": "text/x-python",
   "name": "python",
   "nbconvert_exporter": "python",
   "pygments_lexer": "ipython3",
   "version": "3.10.13"
  },
  "papermill": {
   "default_parameters": {},
   "duration": 25.952726,
   "end_time": "2024-06-29T03:49:23.417488",
   "environment_variables": {},
   "exception": null,
   "input_path": "__notebook__.ipynb",
   "output_path": "__notebook__.ipynb",
   "parameters": {},
   "start_time": "2024-06-29T03:48:57.464762",
   "version": "2.5.0"
  }
 },
 "nbformat": 4,
 "nbformat_minor": 5
}
